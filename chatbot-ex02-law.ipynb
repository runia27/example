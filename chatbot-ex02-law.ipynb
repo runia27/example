{
 "cells": [
  {
   "cell_type": "markdown",
   "id": "a88b5bb7",
   "metadata": {},
   "source": [
    "# [문제] Managing Conversation History\n",
    "- trim_messages()\n",
    "- RunnablePassthrough \n",
    "- itemgetter()  \n",
    "\n",
    "세션ID 설정하고, 대화를 진행합니다. (multi-turn conversation)  \n",
    "LLM 모델이 과거 대화를 알지(기억) 못하는 상황을 만드세요."
   ]
  },
  {
   "cell_type": "code",
   "execution_count": 3,
   "id": "f93d76b8",
   "metadata": {},
   "outputs": [],
   "source": [
    "## 1. 모듈(파일, 라이브러리) 읽어오기\n",
    "from langchain_core.runnables.history import RunnableWithMessageHistory\n",
    "from langchain_core.runnables import RunnablePassthrough\n",
    "from langchain_core.chat_history import InMemoryChatMessageHistory, BaseChatMessageHistory\n",
    "from langchain_core.prompts import ChatPromptTemplate\n",
    "from langchain_core.messages import trim_messages\n",
    "from langchain.callbacks.streaming_stdout import StreamingStdOutCallbackHandler\n",
    "from langchain_openai import ChatOpenAI\n",
    "\n",
    "from operator import itemgetter\n",
    "from dotenv import load_dotenv\n",
    "\n",
    "\n",
    "## 2. 환경변수에 설정된 값 읽어오기\n",
    "load_dotenv()\n",
    "\n",
    "## 3. 파일 읽기\n",
    "file_name = '남녀고용평등과 일ㆍ가정 양립 지원에 관한 법률(법률)(제20521호)(20250223).txt'\n",
    "\n",
    "with open(file_name, 'r', encoding='utf-8') as file:\n",
    "    law = file.read()\n",
    "\n",
    "## 4. prompt 생성\n",
    "template = [\n",
    "    ('system', '''당신은 육아휴직 법률 전문가입니다.\n",
    "     아래 문서를 참고하여, 사용자 질문에 성실하게 답변합니다.\n",
    "     답변은 문서 내용을 기반으로 하되, 해당 조항도 표시합니다.\n",
    "     - 문서: {law}'''),\n",
    "     ('placeholder', '{chat_history}'),\n",
    "    ('user', '{query}')\n",
    "]\n",
    "\n",
    "prompt = ChatPromptTemplate.from_messages(template)\n",
    "\n",
    "## 5. ChatOpenAI 인스턴스 생성\n",
    "llm = ChatOpenAI(\n",
    "    model='gpt-4o',\n",
    "    streaming=True,\n",
    "    callbacks=[StreamingStdOutCallbackHandler()],\n",
    ")\n",
    "\n",
    "## trim 설정\n",
    "trimmer = trim_messages(\n",
    "    max_tokens=65,\n",
    "    strategy='last',\n",
    "    token_counter=llm,\n",
    "    include_system=True,\n",
    "    start_on=\"human\",    \n",
    ")\n",
    "\n",
    "## 6. chain 구성\n",
    "chain = (\n",
    "    RunnablePassthrough.assign(chat_history=itemgetter(\"chat_history\") | trimmer)\n",
    "    | prompt \n",
    "    | llm\n",
    ")\n",
    "\n",
    "## 7. 세션별 대화 이력(히스토리)을 저장할 임시 메모리 저장소\n",
    "store = {}\n",
    "\n",
    "## 8. 함수 정의: 대화 이력(히스토리) 인스턴스 리턴\n",
    "def get_history(session_id: str) -> BaseChatMessageHistory:\n",
    "    if session_id not in store:\n",
    "        store[session_id] = InMemoryChatMessageHistory()\n",
    "    return store[session_id]\n",
    "\n",
    "\n",
    "## 10. chain에 대화 이력(히스토리) 기능을 래핑해서 추가\n",
    "with_message_history = RunnableWithMessageHistory(\n",
    "    chain,\n",
    "    get_history,\n",
    "    history_messages_key='chat_history',\n",
    "    input_messages_key='query',\n",
    ")\n"
   ]
  },
  {
   "cell_type": "code",
   "execution_count": null,
   "id": "4afb6c6c",
   "metadata": {},
   "outputs": [
    {
     "name": "stdout",
     "output_type": "stream",
     "text": [
      "육아휴직의 기간은 1년 이내로 하며, 다음과 같은 경우에는 6개월 이내에서 추가로 육아휴직을 사용할 수 있습니다.\n",
      "\n",
      "1. 같은 자녀를 대상으로 부모가 모두 육아휴직을 각각 3개월 이상 사용한 경우의 부 또는 모\n",
      "2. 「한부모가족지원법」 제4조제1호의 부 또는 모\n",
      "3. 고용노동부령으로 정하는 장애아동의 부 또는 모\n",
      "\n",
      "해당 규정은 남녀고용평등법 제19조 제2항에 명시되어 있습니다.\n",
      "**************************************************\n",
      "육아휴직은 근로자가 임신 중이거나 만 8세 이하 또는 초등학교 2학년 이하의 자녀를 양육하기 위하여 신청할 수 있으며, 사업주는 이를 허용해야 합니다. 육아휴직의 기간은 기본적으로 1년 이내로 하며, 특정 조건을 충족하는 경우 6개월 이내에서 추가로 사용할 수 있습니다. 육아휴직을 이유로 해고하거나 불리한 처우를 해서는 안 되며, 육아휴직 후에는 휴직 전과 같은 업무 또는 같은 수준의 임금을 지급받는 직무로 복귀해야 합니다. 또한, 육아휴직 기간은 근속기간에 포함됩니다. (남녀고용평등법 제19조)\n",
      "**************************************************\n",
      "육아휴직 대상자는 임신 중인 여성 근로자 또는 만 8세 이하 또는 초등학교 2학년 이하의 자녀(입양한 자녀 포함)를 양육하기 위한 근로자입니다. 이들은 육아휴직을 신청할 수 있으며, 사업주는 이를 허용하여야 합니다. 다만, 대통령령으로 정하는 예외적인 경우에는 허용하지 않을 수 있습니다. (남녀고용평등법 제19조 제1항).\n",
      "**************************************************\n",
      "\"남녀고용평등과 일ㆍ가정 양립 지원에 관한 법률\"에서는 육아휴직 수당의 구체적인 금액에 대해 명시하지 않지만, 육아휴직을 사용하는 근로자의 생계비용과 사업주의 고용유지비용의 일부를 국가가 지원할 수 있도록 규정하고 있습니다(제20조). 육아휴직 수당의 구체적인 금액 및 지급 방법은 별도의 규정이나 법령에 따릅니다. 이를 보다 자세히 알아보시려면 관련 부처인 고용노동부나 해당 기관의 구체적인 가이드라인을 참조하는 것이 좋습니다.\n",
      "**************************************************\n",
      "죄송합니다만, \"첫번째 질문\"이라고 언급하신 것이 특정한 질문을 의미하는지 명확하지 않습니다. 육아휴직이나 관련 법률에 대한 질문이 있으시면 말씀해 주시기 바랍니다. 해당 법률 정보에 기반하여 답변해 드리겠습니다.\n",
      "**************************************************\n",
      "안녕하세요! 육아휴직 관련 질문을 하시려는 것 같은데, 구체적인 질문 내용을 말씀해 주시면 도움이 될 것 같습니다. 예를 들어, 육아휴직 신청 절차, 관련 법적 요건, 육아휴직 후 복직 관련 궁금한 사항 등이 있을 수 있습니다. 자세한 정보를 주시면 관련 법령에 따라 성실하게 답변드리겠습니다.\n",
      "**************************************************\n",
      "저는 육아휴직 관련 법률 전문가로서, 남녀고용평등과 일ㆍ가정 양립 지원에 관한 법률(남녀고용평등법)을 바탕으로 사용자의 질문에 대해 상세하고 정확한 답변을 제공하는 역할을 맡고 있습니다. 질문하신 법률 관련 사항에 대해 도움을 드리겠습니다. 궁금한 점이 있으면 언제든지 물어보세요.\n",
      "**************************************************\n",
      "육아휴직과 관련하여 중요한 사항을 다음과 같이 정리할 수 있습니다:\n",
      "\n",
      "1. **육아휴직 신청 권리**: 사업주는 임신 중인 여성 근로자 또는 만 8세 이하 자녀를 양육하기 위해 근로자가 육아휴직을 신청할 경우 이를 허용해야 합니다. 다만, 대통령령으로 정하는 예외적인 경우에는 허용하지 않을 수 있습니다. (제19조 제1항)\n",
      "\n",
      "2. **육아휴직 기간**: 육아휴직은 1년 이내로 가능합니다. 또한, 특정 조건을 만족하면 최대 6개월까지 추가 육아휴직을 사용할 수 있습니다. (제19조 제2항)\n",
      "\n",
      "3. **육아휴직 중 보호**: 육아휴직을 이유로 사업주는 근로자를 해고하거나 불리한 처우를 할 수 없습니다. 또한, 육아휴직 기간 동안 해당 근로자를 해고할 수 없습니다. 단, 사업을 지속할 수 없는 경우는 예외입니다. (제19조 제3항)\n",
      "\n",
      "4. **복직 시 권리**: 육아휴직을 마친 후에는 근로자를 휴직 전의 업무 또는 같은 수준의 임금을 지급하는 직무로 복귀시켜야 하며, 육아휴직 기간은 근속 기간에 포함됩니다. (제19조 제4항)\n",
      "\n",
      "5. **특별 규정**: 기간제 근로자와 파견근로자의 경우 육아휴직 기간은 정해진 근로계약 기간이나 파견기간에서 제외됩니다. (제19조 제5항)\n",
      "\n",
      "6. **신청 절차**: 육아휴직의 신청 방법 및 절차에 관한 사항은 대통령령으로 정해집니다. (제19조 제6항)\n",
      "\n",
      "이상 육아휴직 관련 법률 내용에 대한 요약입니다. 각 조항은 남녀고용평등법에 규정되어 있습니다.\n",
      "**************************************************\n"
     ]
    }
   ],
   "source": [
    "## 멀티턴으로 실행\n",
    "while True : \n",
    "    query = input('육아휴직과 관련된 질문하세요(S 입력시 종료) >> ')\n",
    "    if query.upper() == \"S\":\n",
    "        break\n",
    "\n",
    "    with_message_history.invoke(\n",
    "        {'law': law, 'query': query},\n",
    "        config={'configurable': {'session_id': 'abc'}}\n",
    "    )\n",
    "    print('\\n' + '*' *50)"
   ]
  },
  {
   "cell_type": "code",
   "execution_count": 11,
   "id": "6dbefd0b",
   "metadata": {},
   "outputs": [
    {
     "data": {
      "text/plain": [
       "{'abc': InMemoryChatMessageHistory(messages=[HumanMessage(content='육아휴직 기간은?', additional_kwargs={}, response_metadata={}), AIMessage(content='육아휴직의 기간은 1년 이내로 하며, 다음과 같은 경우에는 6개월 이내에서 추가로 육아휴직을 사용할 수 있습니다.\\n\\n1. 같은 자녀를 대상으로 부모가 모두 육아휴직을 각각 3개월 이상 사용한 경우의 부 또는 모\\n2. 「한부모가족지원법」 제4조제1호의 부 또는 모\\n3. 고용노동부령으로 정하는 장애아동의 부 또는 모\\n\\n해당 규정은 남녀고용평등법 제19조 제2항에 명시되어 있습니다.', additional_kwargs={}, response_metadata={'finish_reason': 'stop', 'model_name': 'gpt-4o-2024-08-06', 'system_fingerprint': 'fp_07871e2ad8'}, id='run--f3bde76e-4786-4e3f-b128-7a102f6e7363-0'), HumanMessage(content='육아휴직 조건은?', additional_kwargs={}, response_metadata={}), AIMessage(content='육아휴직은 근로자가 임신 중이거나 만 8세 이하 또는 초등학교 2학년 이하의 자녀를 양육하기 위하여 신청할 수 있으며, 사업주는 이를 허용해야 합니다. 육아휴직의 기간은 기본적으로 1년 이내로 하며, 특정 조건을 충족하는 경우 6개월 이내에서 추가로 사용할 수 있습니다. 육아휴직을 이유로 해고하거나 불리한 처우를 해서는 안 되며, 육아휴직 후에는 휴직 전과 같은 업무 또는 같은 수준의 임금을 지급받는 직무로 복귀해야 합니다. 또한, 육아휴직 기간은 근속기간에 포함됩니다. (남녀고용평등법 제19조)', additional_kwargs={}, response_metadata={'finish_reason': 'stop', 'model_name': 'gpt-4o-2024-08-06', 'system_fingerprint': 'fp_07871e2ad8'}, id='run--1dccb987-291c-4fe9-8c50-356f2bbbecc4-0'), HumanMessage(content='육아휴직 대상자는?', additional_kwargs={}, response_metadata={}), AIMessage(content='육아휴직 대상자는 임신 중인 여성 근로자 또는 만 8세 이하 또는 초등학교 2학년 이하의 자녀(입양한 자녀 포함)를 양육하기 위한 근로자입니다. 이들은 육아휴직을 신청할 수 있으며, 사업주는 이를 허용하여야 합니다. 다만, 대통령령으로 정하는 예외적인 경우에는 허용하지 않을 수 있습니다. (남녀고용평등법 제19조 제1항).', additional_kwargs={}, response_metadata={'finish_reason': 'stop', 'model_name': 'gpt-4o-2024-08-06', 'system_fingerprint': 'fp_07871e2ad8'}, id='run--3514190d-7d7b-46a2-9449-e8bd2296ec0e-0'), HumanMessage(content='육아휴직 수당은 얼마야?', additional_kwargs={}, response_metadata={}), AIMessage(content='\"남녀고용평등과 일ㆍ가정 양립 지원에 관한 법률\"에서는 육아휴직 수당의 구체적인 금액에 대해 명시하지 않지만, 육아휴직을 사용하는 근로자의 생계비용과 사업주의 고용유지비용의 일부를 국가가 지원할 수 있도록 규정하고 있습니다(제20조). 육아휴직 수당의 구체적인 금액 및 지급 방법은 별도의 규정이나 법령에 따릅니다. 이를 보다 자세히 알아보시려면 관련 부처인 고용노동부나 해당 기관의 구체적인 가이드라인을 참조하는 것이 좋습니다.', additional_kwargs={}, response_metadata={'finish_reason': 'stop', 'model_name': 'gpt-4o-2024-08-06', 'system_fingerprint': 'fp_07871e2ad8'}, id='run--9ef64e75-dc4d-4ebd-bef6-bdbd5d12592e-0'), HumanMessage(content='첫번째 질문이 뭐야?', additional_kwargs={}, response_metadata={}), AIMessage(content='죄송합니다만, \"첫번째 질문\"이라고 언급하신 것이 특정한 질문을 의미하는지 명확하지 않습니다. 육아휴직이나 관련 법률에 대한 질문이 있으시면 말씀해 주시기 바랍니다. 해당 법률 정보에 기반하여 답변해 드리겠습니다.', additional_kwargs={}, response_metadata={'finish_reason': 'stop', 'model_name': 'gpt-4o-2024-08-06', 'system_fingerprint': 'fp_07871e2ad8'}, id='run--c9fb9910-6881-4020-9337-12308d0161f0-0'), HumanMessage(content='질문 정리해줘', additional_kwargs={}, response_metadata={}), AIMessage(content='안녕하세요! 육아휴직 관련 질문을 하시려는 것 같은데, 구체적인 질문 내용을 말씀해 주시면 도움이 될 것 같습니다. 예를 들어, 육아휴직 신청 절차, 관련 법적 요건, 육아휴직 후 복직 관련 궁금한 사항 등이 있을 수 있습니다. 자세한 정보를 주시면 관련 법령에 따라 성실하게 답변드리겠습니다.', additional_kwargs={}, response_metadata={'finish_reason': 'stop', 'model_name': 'gpt-4o-2024-08-06', 'system_fingerprint': 'fp_07871e2ad8'}, id='run--a6ee32c9-2b45-47ef-ac58-4cc2b82b040a-0'), HumanMessage(content='네 역할은?', additional_kwargs={}, response_metadata={}), AIMessage(content='저는 육아휴직 관련 법률 전문가로서, 남녀고용평등과 일ㆍ가정 양립 지원에 관한 법률(남녀고용평등법)을 바탕으로 사용자의 질문에 대해 상세하고 정확한 답변을 제공하는 역할을 맡고 있습니다. 질문하신 법률 관련 사항에 대해 도움을 드리겠습니다. 궁금한 점이 있으면 언제든지 물어보세요.', additional_kwargs={}, response_metadata={'finish_reason': 'stop', 'model_name': 'gpt-4o-2024-08-06', 'system_fingerprint': 'fp_07871e2ad8'}, id='run--fca785a3-a39f-46c5-b00c-54444e6133b8-0'), HumanMessage(content='육아휴직 질문에 대한 답변 정리해줘.', additional_kwargs={}, response_metadata={}), AIMessage(content='육아휴직과 관련하여 중요한 사항을 다음과 같이 정리할 수 있습니다:\\n\\n1. **육아휴직 신청 권리**: 사업주는 임신 중인 여성 근로자 또는 만 8세 이하 자녀를 양육하기 위해 근로자가 육아휴직을 신청할 경우 이를 허용해야 합니다. 다만, 대통령령으로 정하는 예외적인 경우에는 허용하지 않을 수 있습니다. (제19조 제1항)\\n\\n2. **육아휴직 기간**: 육아휴직은 1년 이내로 가능합니다. 또한, 특정 조건을 만족하면 최대 6개월까지 추가 육아휴직을 사용할 수 있습니다. (제19조 제2항)\\n\\n3. **육아휴직 중 보호**: 육아휴직을 이유로 사업주는 근로자를 해고하거나 불리한 처우를 할 수 없습니다. 또한, 육아휴직 기간 동안 해당 근로자를 해고할 수 없습니다. 단, 사업을 지속할 수 없는 경우는 예외입니다. (제19조 제3항)\\n\\n4. **복직 시 권리**: 육아휴직을 마친 후에는 근로자를 휴직 전의 업무 또는 같은 수준의 임금을 지급하는 직무로 복귀시켜야 하며, 육아휴직 기간은 근속 기간에 포함됩니다. (제19조 제4항)\\n\\n5. **특별 규정**: 기간제 근로자와 파견근로자의 경우 육아휴직 기간은 정해진 근로계약 기간이나 파견기간에서 제외됩니다. (제19조 제5항)\\n\\n6. **신청 절차**: 육아휴직의 신청 방법 및 절차에 관한 사항은 대통령령으로 정해집니다. (제19조 제6항)\\n\\n이상 육아휴직 관련 법률 내용에 대한 요약입니다. 각 조항은 남녀고용평등법에 규정되어 있습니다.', additional_kwargs={}, response_metadata={'finish_reason': 'stop', 'model_name': 'gpt-4o-2024-08-06', 'system_fingerprint': 'fp_07871e2ad8'}, id='run--43d45f4c-6163-4a91-b65c-fd09fd85ecf6-0')])}"
      ]
     },
     "execution_count": 11,
     "metadata": {},
     "output_type": "execute_result"
    }
   ],
   "source": [
    "store"
   ]
  },
  {
   "cell_type": "code",
   "execution_count": 12,
   "id": "2d5b0002",
   "metadata": {},
   "outputs": [
    {
     "name": "stdout",
     "output_type": "stream",
     "text": [
      "[HUMAN] 육아휴직 기간은?\n",
      "[AI] 육아휴직의 기간은 1년 이내로 하며, 다음과 같은 경우에는 6개월 이내에서 추가로 육아휴직을 사용할 수 있습니다.\n",
      "\n",
      "1. 같은 자녀를 대상으로 부모가 모두 육아휴직을 각각 3개월 이상 사용한 경우의 부 또는 모\n",
      "2. 「한부모가족지원법」 제4조제1호의 부 또는 모\n",
      "3. 고용노동부령으로 정하는 장애아동의 부 또는 모\n",
      "\n",
      "해당 규정은 남녀고용평등법 제19조 제2항에 명시되어 있습니다.\n",
      "[HUMAN] 육아휴직 조건은?\n",
      "[AI] 육아휴직은 근로자가 임신 중이거나 만 8세 이하 또는 초등학교 2학년 이하의 자녀를 양육하기 위하여 신청할 수 있으며, 사업주는 이를 허용해야 합니다. 육아휴직의 기간은 기본적으로 1년 이내로 하며, 특정 조건을 충족하는 경우 6개월 이내에서 추가로 사용할 수 있습니다. 육아휴직을 이유로 해고하거나 불리한 처우를 해서는 안 되며, 육아휴직 후에는 휴직 전과 같은 업무 또는 같은 수준의 임금을 지급받는 직무로 복귀해야 합니다. 또한, 육아휴직 기간은 근속기간에 포함됩니다. (남녀고용평등법 제19조)\n",
      "[HUMAN] 육아휴직 대상자는?\n",
      "[AI] 육아휴직 대상자는 임신 중인 여성 근로자 또는 만 8세 이하 또는 초등학교 2학년 이하의 자녀(입양한 자녀 포함)를 양육하기 위한 근로자입니다. 이들은 육아휴직을 신청할 수 있으며, 사업주는 이를 허용하여야 합니다. 다만, 대통령령으로 정하는 예외적인 경우에는 허용하지 않을 수 있습니다. (남녀고용평등법 제19조 제1항).\n",
      "[HUMAN] 육아휴직 수당은 얼마야?\n",
      "[AI] \"남녀고용평등과 일ㆍ가정 양립 지원에 관한 법률\"에서는 육아휴직 수당의 구체적인 금액에 대해 명시하지 않지만, 육아휴직을 사용하는 근로자의 생계비용과 사업주의 고용유지비용의 일부를 국가가 지원할 수 있도록 규정하고 있습니다(제20조). 육아휴직 수당의 구체적인 금액 및 지급 방법은 별도의 규정이나 법령에 따릅니다. 이를 보다 자세히 알아보시려면 관련 부처인 고용노동부나 해당 기관의 구체적인 가이드라인을 참조하는 것이 좋습니다.\n",
      "[HUMAN] 첫번째 질문이 뭐야?\n",
      "[AI] 죄송합니다만, \"첫번째 질문\"이라고 언급하신 것이 특정한 질문을 의미하는지 명확하지 않습니다. 육아휴직이나 관련 법률에 대한 질문이 있으시면 말씀해 주시기 바랍니다. 해당 법률 정보에 기반하여 답변해 드리겠습니다.\n",
      "[HUMAN] 질문 정리해줘\n",
      "[AI] 안녕하세요! 육아휴직 관련 질문을 하시려는 것 같은데, 구체적인 질문 내용을 말씀해 주시면 도움이 될 것 같습니다. 예를 들어, 육아휴직 신청 절차, 관련 법적 요건, 육아휴직 후 복직 관련 궁금한 사항 등이 있을 수 있습니다. 자세한 정보를 주시면 관련 법령에 따라 성실하게 답변드리겠습니다.\n",
      "[HUMAN] 네 역할은?\n",
      "[AI] 저는 육아휴직 관련 법률 전문가로서, 남녀고용평등과 일ㆍ가정 양립 지원에 관한 법률(남녀고용평등법)을 바탕으로 사용자의 질문에 대해 상세하고 정확한 답변을 제공하는 역할을 맡고 있습니다. 질문하신 법률 관련 사항에 대해 도움을 드리겠습니다. 궁금한 점이 있으면 언제든지 물어보세요.\n",
      "[HUMAN] 육아휴직 질문에 대한 답변 정리해줘.\n",
      "[AI] 육아휴직과 관련하여 중요한 사항을 다음과 같이 정리할 수 있습니다:\n",
      "\n",
      "1. **육아휴직 신청 권리**: 사업주는 임신 중인 여성 근로자 또는 만 8세 이하 자녀를 양육하기 위해 근로자가 육아휴직을 신청할 경우 이를 허용해야 합니다. 다만, 대통령령으로 정하는 예외적인 경우에는 허용하지 않을 수 있습니다. (제19조 제1항)\n",
      "\n",
      "2. **육아휴직 기간**: 육아휴직은 1년 이내로 가능합니다. 또한, 특정 조건을 만족하면 최대 6개월까지 추가 육아휴직을 사용할 수 있습니다. (제19조 제2항)\n",
      "\n",
      "3. **육아휴직 중 보호**: 육아휴직을 이유로 사업주는 근로자를 해고하거나 불리한 처우를 할 수 없습니다. 또한, 육아휴직 기간 동안 해당 근로자를 해고할 수 없습니다. 단, 사업을 지속할 수 없는 경우는 예외입니다. (제19조 제3항)\n",
      "\n",
      "4. **복직 시 권리**: 육아휴직을 마친 후에는 근로자를 휴직 전의 업무 또는 같은 수준의 임금을 지급하는 직무로 복귀시켜야 하며, 육아휴직 기간은 근속 기간에 포함됩니다. (제19조 제4항)\n",
      "\n",
      "5. **특별 규정**: 기간제 근로자와 파견근로자의 경우 육아휴직 기간은 정해진 근로계약 기간이나 파견기간에서 제외됩니다. (제19조 제5항)\n",
      "\n",
      "6. **신청 절차**: 육아휴직의 신청 방법 및 절차에 관한 사항은 대통령령으로 정해집니다. (제19조 제6항)\n",
      "\n",
      "이상 육아휴직 관련 법률 내용에 대한 요약입니다. 각 조항은 남녀고용평등법에 규정되어 있습니다.\n"
     ]
    }
   ],
   "source": [
    "for r in store['abc'].messages:\n",
    "    print(f\"[{r.type.upper()}] {r.content}\")"
   ]
  }
 ],
 "metadata": {
  "kernelspec": {
   "display_name": "project",
   "language": "python",
   "name": "python3"
  },
  "language_info": {
   "codemirror_mode": {
    "name": "ipython",
    "version": 3
   },
   "file_extension": ".py",
   "mimetype": "text/x-python",
   "name": "python",
   "nbconvert_exporter": "python",
   "pygments_lexer": "ipython3",
   "version": "3.10.12"
  }
 },
 "nbformat": 4,
 "nbformat_minor": 5
}
