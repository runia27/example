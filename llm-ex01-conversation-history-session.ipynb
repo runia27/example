{
 "cells": [
  {
   "cell_type": "markdown",
   "id": "a402ff67",
   "metadata": {},
   "source": [
    "# session\n",
    "---"
   ]
  },
  {
   "cell_type": "markdown",
   "id": "4770e85d",
   "metadata": {},
   "source": [
    "\n",
    "# LCEL 5번\n",
    "---\n",
    "- ChatPromptTemplate(): 역할 부여\n",
    "- InMemoryChatMessageHistory() : 저장  \n",
    "- RunnableWithMessageHistory()  \n",
    "- chain 구성 단일턴\n",
    "\n",
    "# docs 문제\n",
    "- 파일 읽기 : txt 파일 읽기 (utf-8)\n",
    "- LLM 모델: 문서에 대한 답변 받음. 시스템 설정 넣어줌. \n",
    "- 체인 형태로. \n",
    "- prompt template: 직접 작성"
   ]
  },
  {
   "cell_type": "code",
   "execution_count": null,
   "id": "dc8a3804",
   "metadata": {},
   "outputs": [
    {
     "data": {
      "text/plain": [
       "True"
      ]
     },
     "execution_count": 1,
     "metadata": {},
     "output_type": "execute_result"
    }
   ],
   "source": [
    "from langchain_core.prompts import ChatPromptTemplate\n",
    "from langchain_core.chat_history import BaseChatMessageHistory, InMemoryChatMessageHistory\n",
    "from langchain_core.runnables.history import RunnableWithMessageHistory\n",
    "from langchain_core.output_parsers import StrOutputParser\n",
    "\n",
    "from langchain_openai import ChatOpenAI\n",
    "from dotenv import load_dotenv\n",
    "\n",
    "load_dotenv()\n",
    "\n",
    "with open(r'남녀고용평등과 일ㆍ가정 양립 지원에 관한 법률(법률)(제20521호)(20250223).txt', 'r', encoding = 'UTF-8') as file :\n",
    "    fileRead = file.read()\n",
    "\n",
    "llm = ChatOpenAI(model_name = 'gpt-4.1-nano')\n",
    "\n",
    "prompt = ChatPromptTemplate([\n",
    "    ('system', '당신은 20년차 변호사입니다. 문서 {docs}에 대한 사용자의 질문에 간결하고 친절하게 답변하세요. 관련 법 조항도 함께 설명하세요.'),\n",
    "    ('placeholder', '{chat_history}'),\n",
    "    ('user', '{user_question}')\n",
    "])\n",
    "\n",
    "history = {}\n",
    "\n",
    "def get_session_history(session_id : str) -> BaseChatMessageHistory:\n",
    "    if session_id not in history :\n",
    "        history[session_id] = InMemoryChatMessageHistory()\n",
    "    return history[session_id]\n",
    "\n",
    "wrapped_chain = RunnableWithMessageHistory(\n",
    "    prompt | llm | StrOutputParser(), \n",
    "    get_session_history,\n",
    "    history_messages_key=\"chat_history\",\n",
    "    input_messages_key=\"user_question\"\n",
    ")"
   ]
  },
  {
   "cell_type": "code",
   "execution_count": null,
   "id": "08ac0f8c",
   "metadata": {},
   "outputs": [
    {
     "name": "stdout",
     "output_type": "stream",
     "text": [
      "안녕하세요, J님. 육아휴직 기간은 법률 제19조에 따라 최대 1년입니다. 다만, 특정 조건에 따라 최대 2년까지 연장할 수 있습니다(제19조의4 제4항). 육아휴직 신청 시 근로자의 상황에 따라 기간이 달라질 수 있으니, 구체적인 신청 방법과 조건은 고용노동부에서 제공하는 안내를 참고하시거나 회사 인사 담당자와 상담하시는 것이 좋습니다. \n",
      "\n",
      "법률 조항 참고: **제19조(육아휴직)**와 **제19조의4(육아휴직 기간 연장)**를 확인해 주세요.\n",
      "고객님 성함은 \"J\"이라고 알려주셨습니다. \n",
      "\n",
      "혹시 더 필요한 내용이 있으시면 언제든 말씀해 주세요!\n"
     ]
    }
   ],
   "source": [
    "while True :\n",
    "    user_qusetion = input(\"문서에 대해 질문하세요. S를 입력하면 대화 종료.\")\n",
    "    if user_qusetion.upper() == 'S' :\n",
    "        break\n",
    "\n",
    "    wrapped_chain.invoke(\n",
    "        {'docs': fileRead, 'user_question': user_qusetion},\n",
    "        config= {'configurable': {'session_id':'abc123'}}\n",
    "    )\n",
    "\n",
    "    print(aimessageChain)"
   ]
  },
  {
   "cell_type": "code",
   "execution_count": 15,
   "id": "8b2c45e5",
   "metadata": {},
   "outputs": [
    {
     "data": {
      "text/plain": [
       "InMemoryChatMessageHistory(messages=[HumanMessage(content='내 이름은 J입니다. 육아휴직이 며칠인지 궁금해요', additional_kwargs={}, response_metadata={}), AIMessage(content='안녕하세요, J님. 육아휴직 기간은 법률 제19조에 따라 최대 1년입니다. 다만, 특정 조건에 따라 최대 2년까지 연장할 수 있습니다(제19조의4 제4항). 육아휴직 신청 시 근로자의 상황에 따라 기간이 달라질 수 있으니, 구체적인 신청 방법과 조건은 고용노동부에서 제공하는 안내를 참고하시거나 회사 인사 담당자와 상담하시는 것이 좋습니다. \\n\\n법률 조항 참고: **제19조(육아휴직)**와 **제19조의4(육아휴직 기간 연장)**를 확인해 주세요.', additional_kwargs={}, response_metadata={}), HumanMessage(content='내 이름이 뭐죠?', additional_kwargs={}, response_metadata={}), AIMessage(content='고객님 성함은 \"J\"이라고 알려주셨습니다. \\n\\n혹시 더 필요한 내용이 있으시면 언제든 말씀해 주세요!', additional_kwargs={}, response_metadata={})])"
      ]
     },
     "execution_count": 15,
     "metadata": {},
     "output_type": "execute_result"
    }
   ],
   "source": [
    "get_session_history('abc123')"
   ]
  }
 ],
 "metadata": {
  "kernelspec": {
   "display_name": "project",
   "language": "python",
   "name": "python3"
  },
  "language_info": {
   "codemirror_mode": {
    "name": "ipython",
    "version": 3
   },
   "file_extension": ".py",
   "mimetype": "text/x-python",
   "name": "python",
   "nbconvert_exporter": "python",
   "pygments_lexer": "ipython3",
   "version": "3.10.12"
  }
 },
 "nbformat": 4,
 "nbformat_minor": 5
}
